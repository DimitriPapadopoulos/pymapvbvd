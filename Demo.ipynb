{
 "cells": [
  {
   "cell_type": "markdown",
   "metadata": {},
   "source": [
    "# pyMapVBVD Demo"
   ]
  },
  {
   "cell_type": "markdown",
   "metadata": {},
   "source": [
    "#### Imports"
   ]
  },
  {
   "cell_type": "code",
   "execution_count": 1,
   "metadata": {
    "tags": []
   },
   "outputs": [],
   "source": [
    "%load_ext autoreload\n",
    "%autoreload 2\n",
    "from mapvbvd import mapVBVD as mapVBVD\n",
    "import numpy as np"
   ]
  },
  {
   "cell_type": "markdown",
   "metadata": {},
   "source": [
    "#### Load VB file"
   ]
  },
  {
   "cell_type": "code",
   "execution_count": 2,
   "metadata": {
    "tags": []
   },
   "outputs": [
    {
     "name": "stderr",
     "output_type": "stream",
     "text": [
      "Scan 1/1, read all mdhs:  71%|███████▏  | 2.51M/3.52M [00:00<00:00, 979MB/s]"
     ]
    },
    {
     "name": "stdout",
     "output_type": "stream",
     "text": [
      "pymapVBVD version 0.3.2+44.g33ddc7b.dirty\n",
      "Software version: VB\n"
     ]
    },
    {
     "name": "stderr",
     "output_type": "stream",
     "text": [
      "\n"
     ]
    }
   ],
   "source": [
    "vbfile = 'tests/test_data/meas_MID311_STEAM_wref1_FID115674.dat'\n",
    "twixObj = mapVBVD(vbfile)"
   ]
  },
  {
   "cell_type": "markdown",
   "metadata": {},
   "source": [
    "#### Show file contents"
   ]
  },
  {
   "cell_type": "code",
   "execution_count": 3,
   "metadata": {
    "tags": []
   },
   "outputs": [
    {
     "name": "stdout",
     "output_type": "stream",
     "text": [
      "MDH: image\n",
      "***twix_map_obj***\n",
      "File: tests/test_data/meas_MID311_STEAM_wref1_FID115674.dat\n",
      "Software: vb\n",
      "Number of acquisitions read 2\n",
      "Data size is [4096,  32,   1,   1,   1,   1,   1,   1,   2,   1,   1,   1,   1,   1,\n",
      "    1,   1]\n",
      "Squeezed data size is [2048,32,2] (['Col', 'Cha', 'Rep'])\n",
      "NCol = 4096\n",
      "NCha = 32\n",
      "NLin  = 1\n",
      "NAve  = 1\n",
      "NSli  = 1\n",
      "NPar  = 1\n",
      "NEco  = 1\n",
      "NPhs  = 1\n",
      "NRep  = 2\n",
      "NSet  = 1\n",
      "NSeg  = 1\n",
      "NIda  = 1\n",
      "NIdb  = 1\n",
      "NIdc  = 1\n",
      "NIdd  = 1\n",
      "NIde  = 1\n",
      "\n",
      "\n",
      "MDH: phasecor\n",
      "***twix_map_obj***\n",
      "File: tests/test_data/meas_MID311_STEAM_wref1_FID115674.dat\n",
      "Software: vb\n",
      "Number of acquisitions read 1\n",
      "Data size is [4096,  32,   1,   1,   1,   1,   1,   1,   1,   1,   1,   1,   1,   1,\n",
      "    1,   1]\n",
      "Squeezed data size is [2048,32] (['Col', 'Cha'])\n",
      "NCol = 4096\n",
      "NCha = 32\n",
      "NLin  = 1\n",
      "NAve  = 1\n",
      "NSli  = 1\n",
      "NPar  = 1\n",
      "NEco  = 1\n",
      "NPhs  = 1\n",
      "NRep  = 1\n",
      "NSet  = 1\n",
      "NSeg  = 1\n",
      "NIda  = 1\n",
      "NIdb  = 1\n",
      "NIdc  = 1\n",
      "NIdd  = 1\n",
      "NIde  = 1\n",
      "\n",
      "\n"
     ]
    }
   ],
   "source": [
    "mdh_flags = twixObj.MDH_flags()\n",
    "for mdh in mdh_flags:\n",
    "    print(f'MDH: {mdh}')\n",
    "    print(twixObj[mdh])\n",
    "    print('\\n')"
   ]
  },
  {
   "cell_type": "markdown",
   "metadata": {},
   "source": [
    "#### View data"
   ]
  },
  {
   "cell_type": "code",
   "execution_count": 4,
   "metadata": {
    "tags": []
   },
   "outputs": [
    {
     "name": "stderr",
     "output_type": "stream",
     "text": [
      "                                                \r"
     ]
    },
    {
     "name": "stdout",
     "output_type": "stream",
     "text": [
      "(2048, 32, 1, 1, 1, 1, 1, 1, 2, 1, 1, 1, 1, 1, 1, 1)\n",
      "(2048, 32, 2)\n",
      "(2000, 8)\n",
      "(2048, 32, 2)\n"
     ]
    },
    {
     "data": {
      "image/png": "[encoded data removed]",
      "text/plain": [
       "<Figure size 432x288 with 1 Axes>"
      ]
     },
     "metadata": {
      "needs_background": "light"
     },
     "output_type": "display_data"
    }
   ],
   "source": [
    "# You can retrieve all of the data\n",
    "twixObj.image.squeeze = False\n",
    "out = twixObj.image['']\n",
    "print(out.shape)\n",
    "\n",
    "# Which can be squeezed\n",
    "twixObj.image.squeeze = True\n",
    "out = twixObj.image['']\n",
    "print(out.shape)\n",
    "\n",
    "# Or you can select a subset of the data\n",
    "twixObj.image.squeeze = True\n",
    "out = twixObj.image[0:2000,0:32:4,1]\n",
    "print(out.shape)\n",
    "\n",
    "# Or you can retrieve the unsorted data (not very interesting in this example)\n",
    "out_unsorted = twixObj.image.unsorted()\n",
    "print(out_unsorted.shape)\n",
    "\n",
    "%matplotlib inline\n",
    "import matplotlib.pyplot as plt\n",
    "plt.plot(np.real(out))\n",
    "plt.show()"
   ]
  },
  {
   "cell_type": "markdown",
   "metadata": {},
   "source": [
    "#### View header information"
   ]
  },
  {
   "cell_type": "code",
   "execution_count": 5,
   "metadata": {},
   "outputs": [
    {
     "name": "stdout",
     "output_type": "stream",
     "text": [
      "MeasYaps:\n",
      "\t('sTXSPEC', 'asNucleusInfo', '0', 'tNucleus'): \"1H\"\n",
      "\t('sTXSPEC', 'asNucleusInfo', '0', 'lFrequency'): 297219948.0\n",
      "\t('sTXSPEC', 'asNucleusInfo', '0', 'flReferenceAmplitude'): 225.0\n",
      "\t('sTXSPEC', 'asNucleusInfo', '0', 'flAmplitudeCorrection'): 1.0\n",
      "\t('sTXSPEC', 'asNucleusInfo', '1', 'flAmplitudeCorrection'): 1.0\n",
      "\t('sTXSPEC', 'asNucleusInfo', '1', 'lRFPAIndex'): -1.0\n",
      "Phoenix:\n",
      "\t('sTXSPEC', 'asNucleusInfo', '0', 'tNucleus'): \"1H\"\n",
      "\t('sTXSPEC', 'asNucleusInfo', '0', 'lFrequency'): 297219948.0\n",
      "\t('sTXSPEC', 'asNucleusInfo', '0', 'bFrequencyValid'): 1.0\n",
      "\t('sTXSPEC', 'asNucleusInfo', '0', 'flReferenceAmplitude'): 225.0\n",
      "\t('sTXSPEC', 'asNucleusInfo', '0', 'bReferenceAmplitudeValid'): 1.0\n",
      "\t('sTXSPEC', 'asNucleusInfo', '0', 'flAmplitudeCorrection'): 1.0\n",
      "\t('sTXSPEC', 'asNucleusInfo', '0', 'bAmplitudeCorrectionValid'): 1.0\n",
      "\t('sTXSPEC', 'asNucleusInfo', '0', 'bRFPAIndexValid'): 1.0\n",
      "\t('sTXSPEC', 'asNucleusInfo', '1', 'bFrequencyValid'): 1.0\n",
      "\t('sTXSPEC', 'asNucleusInfo', '1', 'bReferenceAmplitudeValid'): 1.0\n",
      "\t('sTXSPEC', 'asNucleusInfo', '1', 'flAmplitudeCorrection'): 1.0\n",
      "\t('sTXSPEC', 'asNucleusInfo', '1', 'bAmplitudeCorrectionValid'): 1.0\n",
      "\t('sTXSPEC', 'asNucleusInfo', '1', 'lRFPAIndex'): -1.0\n",
      "\t('sTXSPEC', 'asNucleusInfo', '1', 'bRFPAIndexValid'): 1.0\n"
     ]
    }
   ],
   "source": [
    "found_keys = twixObj.search_header_for_keys(('TXSPEC', 'asNucleusInfo'),top_lvl=['MeasYaps','Phoenix'])"
   ]
  },
  {
   "cell_type": "code",
   "execution_count": 6,
   "metadata": {},
   "outputs": [
    {
     "name": "stdout",
     "output_type": "stream",
     "text": [
      "['\"1H\"']\n"
     ]
    }
   ],
   "source": [
    "value = twixObj.search_header_for_val('MeasYaps',('sTXSPEC', 'asNucleusInfo', '0', 'tNucleus'))\n",
    "print(value)"
   ]
  }
 ],
 "metadata": {
  "kernelspec": {
   "display_name": "Python 3",
   "language": "python",
   "name": "python3"
  },
  "language_info": {
   "codemirror_mode": {
    "name": "ipython",
    "version": 3
   },
   "file_extension": ".py",
   "mimetype": "text/x-python",
   "name": "python",
   "nbconvert_exporter": "python",
   "pygments_lexer": "ipython3",
   "version": "3.7.7"
  }
 },
 "nbformat": 4,
 "nbformat_minor": 4
}
